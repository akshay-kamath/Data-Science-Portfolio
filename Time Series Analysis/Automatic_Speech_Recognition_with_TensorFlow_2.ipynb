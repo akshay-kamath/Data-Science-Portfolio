{
  "cells": [
    {
      "cell_type": "code",
      "execution_count": null,
      "metadata": {
        "id": "dkK9LUalQ5AI"
      },
      "outputs": [],
      "source": [
        "# Importing necessary libraries for the project.\n",
        "# TensorFlow is the main deep learning framework.\n",
        "# NumPy is used for numerical operations.\n",
        "# Matplotlib is for plotting and visualization.\n",
        "import tensorflow as tf### models\n",
        "import numpy as np### math computations\n",
        "import matplotlib.pyplot as plt### plotting bar chart\n",
        "import io\n",
        "import os\n",
        "import re\n",
        "import string\n",
        "from tensorflow.keras.models import Model\n",
        "from tensorflow.keras.layers import Layer\n",
        "from tensorflow.keras.layers import (\n",
        "  Embedding,Input,LSTM,Input,Conv2D,Softmax,Dropout,Dense,GRU,\n",
        "  MaxPooling2D,LayerNormalization,Reshape,BatchNormalization,Bidirectional)\n",
        "from tensorflow.keras.optimizers import Adam"
      ]
    },
    {
      "cell_type": "code",
      "source": [
        "# Defining global variables for model training and data processing.\n",
        "# BATCH_SIZE: The number of samples per gradient update.\n",
        "# LR: Learning rate for the Adam optimizer.\n",
        "# FRAME_LENGTH: The number of points in each frame for audio processing.\n",
        "# FRAME_STEP: The number of points to move for the next frame.\n",
        "# N_EPOCHS: The number of epochs to train the model.\n",
        "BATCH_SIZE=32\n",
        "LR=1e-4\n",
        "FRAME_LENGTH=255\n",
        "FRAME_STEP=128\n",
        "N_EPOCHS=100"
      ],
      "metadata": {
        "id": "4Wp_KD-pHhtv"
      },
      "execution_count": null,
      "outputs": []
    },
    {
      "cell_type": "markdown",
      "source": [
        "# Everything Data"
      ],
      "metadata": {
        "id": "Hh166fR7Bry6"
      }
    },
    {
      "cell_type": "markdown",
      "source": [
        "## Data Download"
      ],
      "metadata": {
        "id": "-0jwS_Y-BxVv"
      }
    },
    {
      "cell_type": "code",
      "execution_count": null,
      "metadata": {
        "colab": {
          "base_uri": "https://localhost:8080/"
        },
        "id": "OCjY9tJPxU2H",
        "outputId": "41eec2f5-9071-42aa-9d5b-27e6a724007e"
      },
      "outputs": [
        {
          "output_type": "stream",
          "name": "stdout",
          "text": [
            "--2023-06-09 13:48:37--  https://data.keithito.com/data/speech/LJSpeech-1.1.tar.bz2\n",
            "Resolving data.keithito.com (data.keithito.com)... 174.138.79.61\n",
            "Connecting to data.keithito.com (data.keithito.com)|174.138.79.61|:443... connected.\n",
            "HTTP request sent, awaiting response... 200 OK\n",
            "Length: 2748572632 (2.6G) [application/octet-stream]\n",
            "Saving to: ‘LJSpeech-1.1.tar.bz2’\n",
            "\n",
            "LJSpeech-1.1.tar.bz 100%[===================>]   2.56G   102MB/s    in 28s     \n",
            "\n",
            "2023-06-09 13:49:06 (92.5 MB/s) - ‘LJSpeech-1.1.tar.bz2’ saved [2748572632/2748572632]\n",
            "\n"
          ]
        }
      ],
      "source": [
        "# Use wget to download the LJSpeech dataset from the provided URL.\n",
        "# This dataset is a large collection of audio files and corresponding transcripts.\n",
        "!wget https://data.keithito.com/data/speech/LJSpeech-1.1.tar.bz2"
      ]
    },
    {
      "cell_type": "code",
      "execution_count": null,
      "metadata": {
        "id": "E2-u-8yiyRjk"
      },
      "outputs": [],
      "source": [
        "# Create a new directory named 'dataset' to store the extracted files.\n",
        "!mkdir \"/content/dataset/\""
      ]
    },
    {
      "cell_type": "code",
      "execution_count": null,
      "metadata": {
        "colab": {
          "base_uri": "https://localhost:8080/"
        },
        "id": "MaIzUCI3xzCU",
        "outputId": "9a4b27b7-7a2e-4e9d-d447-8510b4375832"
      },
      "outputs": [
        {
          "output_type": "stream",
          "name": "stdout",
          "text": [
            "\u001b[1;30;43mStreaming output truncated to the last 5000 lines.\u001b[0m\n",
            "LJSpeech-1.1/wavs/LJ022-0089.wav\n",
            "LJSpeech-1.1/wavs/LJ030-0192.wav\n",
            "LJSpeech-1.1/wavs/LJ041-0078.wav\n",
            "LJSpeech-1.1/wavs/LJ045-0249.wav\n",
            "LJSpeech-1.1/wavs/LJ034-0035.wav\n",
            "LJSpeech-1.1/wavs/LJ010-0152.wav\n",
            "LJSpeech-1.1/wavs/LJ036-0174.wav\n",
            "LJSpeech-1.1/wavs/LJ035-0076.wav\n",
            "LJSpeech-1.1/wavs/LJ032-0176.wav\n",
            "LJSpeech-1.1/wavs/LJ046-0113.wav\n",
            "LJSpeech-1.1/wavs/LJ017-0096.wav\n",
            "LJSpeech-1.1/wavs/LJ004-0098.wav\n",
            "LJSpeech-1.1/wavs/LJ010-0147.wav\n",
            "LJSpeech-1.1/wavs/LJ042-0230.wav\n",
            "LJSpeech-1.1/wavs/LJ041-0033.wav\n",
            "LJSpeech-1.1/wavs/LJ045-0229.wav\n",
            "LJSpeech-1.1/wavs/LJ014-0199.wav\n",
            "LJSpeech-1.1/wavs/LJ002-0082.wav\n",
            "LJSpeech-1.1/wavs/LJ006-0055.wav\n",
            "LJSpeech-1.1/wavs/LJ045-0120.wav\n",
            "LJSpeech-1.1/wavs/LJ050-0028.wav\n",
            "LJSpeech-1.1/wavs/LJ045-0215.wav\n",
            "LJSpeech-1.1/wavs/LJ013-0121.wav\n",
            "LJSpeech-1.1/wavs/LJ008-0025.wav\n",
            "LJSpeech-1.1/wavs/LJ005-0240.wav\n",
            "LJSpeech-1.1/wavs/LJ044-0026.wav\n",
            "LJSpeech-1.1/wavs/LJ048-0127.wav\n",
            "LJSpeech-1.1/wavs/LJ006-0195.wav\n",
            "LJSpeech-1.1/wavs/LJ030-0151.wav\n",
            "LJSpeech-1.1/wavs/LJ038-0154.wav\n",
            "LJSpeech-1.1/wavs/LJ003-0174.wav\n",
            "LJSpeech-1.1/wavs/LJ003-0250.wav\n",
            "LJSpeech-1.1/wavs/LJ027-0147.wav\n",
            "LJSpeech-1.1/wavs/LJ003-0017.wav\n",
            "LJSpeech-1.1/wavs/LJ018-0380.wav\n",
            "LJSpeech-1.1/wavs/LJ041-0045.wav\n",
            "LJSpeech-1.1/wavs/LJ012-0068.wav\n",
            "LJSpeech-1.1/wavs/LJ005-0270.wav\n",
            "LJSpeech-1.1/wavs/LJ036-0199.wav\n",
            "LJSpeech-1.1/wavs/LJ010-0091.wav\n",
            "LJSpeech-1.1/wavs/LJ044-0226.wav\n",
            "LJSpeech-1.1/wavs/LJ005-0006.wav\n",
            "LJSpeech-1.1/wavs/LJ045-0163.wav\n",
            "LJSpeech-1.1/wavs/LJ012-0097.wav\n",
            "LJSpeech-1.1/wavs/LJ015-0110.wav\n",
            "LJSpeech-1.1/wavs/LJ009-0019.wav\n",
            "LJSpeech-1.1/wavs/LJ005-0093.wav\n",
            "LJSpeech-1.1/wavs/LJ050-0152.wav\n",
            "LJSpeech-1.1/wavs/LJ029-0117.wav\n",
            "LJSpeech-1.1/wavs/LJ028-0450.wav\n",
            "LJSpeech-1.1/wavs/LJ019-0138.wav\n",
            "LJSpeech-1.1/wavs/LJ001-0098.wav\n",
            "LJSpeech-1.1/wavs/LJ003-0172.wav\n",
            "LJSpeech-1.1/wavs/LJ010-0295.wav\n",
            "LJSpeech-1.1/wavs/LJ015-0112.wav\n",
            "LJSpeech-1.1/wavs/LJ049-0014.wav\n",
            "LJSpeech-1.1/wavs/LJ016-0288.wav\n",
            "LJSpeech-1.1/wavs/LJ016-0065.wav\n",
            "LJSpeech-1.1/wavs/LJ007-0155.wav\n",
            "LJSpeech-1.1/wavs/LJ020-0014.wav\n",
            "LJSpeech-1.1/wavs/LJ006-0172.wav\n",
            "LJSpeech-1.1/wavs/LJ037-0264.wav\n",
            "LJSpeech-1.1/wavs/LJ019-0079.wav\n",
            "LJSpeech-1.1/wavs/LJ022-0032.wav\n",
            "LJSpeech-1.1/wavs/LJ006-0010.wav\n",
            "LJSpeech-1.1/wavs/LJ047-0100.wav\n",
            "LJSpeech-1.1/wavs/LJ018-0337.wav\n",
            "LJSpeech-1.1/wavs/LJ034-0195.wav\n",
            "LJSpeech-1.1/wavs/LJ032-0125.wav\n",
            "LJSpeech-1.1/wavs/LJ041-0037.wav\n",
            "LJSpeech-1.1/wavs/LJ027-0059.wav\n",
            "LJSpeech-1.1/wavs/LJ038-0010.wav\n",
            "LJSpeech-1.1/wavs/LJ008-0163.wav\n",
            "LJSpeech-1.1/wavs/LJ035-0187.wav\n",
            "LJSpeech-1.1/wavs/LJ031-0088.wav\n",
            "LJSpeech-1.1/wavs/LJ004-0214.wav\n",
            "LJSpeech-1.1/wavs/LJ047-0226.wav\n",
            "LJSpeech-1.1/wavs/LJ010-0195.wav\n",
            "LJSpeech-1.1/wavs/LJ002-0027.wav\n",
            "LJSpeech-1.1/wavs/LJ045-0217.wav\n",
            "LJSpeech-1.1/wavs/LJ033-0174.wav\n",
            "LJSpeech-1.1/wavs/LJ037-0005.wav\n",
            "LJSpeech-1.1/wavs/LJ049-0198.wav\n",
            "LJSpeech-1.1/wavs/LJ043-0050.wav\n",
            "LJSpeech-1.1/wavs/LJ005-0029.wav\n",
            "LJSpeech-1.1/wavs/LJ046-0081.wav\n",
            "LJSpeech-1.1/wavs/LJ028-0504.wav\n",
            "LJSpeech-1.1/wavs/LJ025-0009.wav\n",
            "LJSpeech-1.1/wavs/LJ017-0071.wav\n",
            "LJSpeech-1.1/wavs/LJ034-0188.wav\n",
            "LJSpeech-1.1/wavs/LJ047-0131.wav\n",
            "LJSpeech-1.1/wavs/LJ043-0088.wav\n",
            "LJSpeech-1.1/wavs/LJ007-0042.wav\n",
            "LJSpeech-1.1/wavs/LJ011-0150.wav\n",
            "LJSpeech-1.1/wavs/LJ030-0038.wav\n",
            "LJSpeech-1.1/wavs/LJ016-0200.wav\n",
            "LJSpeech-1.1/wavs/LJ039-0022.wav\n",
            "LJSpeech-1.1/wavs/LJ023-0069.wav\n",
            "LJSpeech-1.1/wavs/LJ038-0116.wav\n",
            "LJSpeech-1.1/wavs/LJ015-0262.wav\n",
            "LJSpeech-1.1/wavs/LJ032-0007.wav\n",
            "LJSpeech-1.1/wavs/LJ040-0070.wav\n",
            "LJSpeech-1.1/wavs/LJ050-0098.wav\n",
            "LJSpeech-1.1/wavs/LJ018-0338.wav\n",
            "LJSpeech-1.1/wavs/LJ017-0097.wav\n",
            "LJSpeech-1.1/wavs/LJ019-0353.wav\n",
            "LJSpeech-1.1/wavs/LJ003-0303.wav\n",
            "LJSpeech-1.1/wavs/LJ009-0244.wav\n",
            "LJSpeech-1.1/wavs/LJ010-0223.wav\n",
            "LJSpeech-1.1/wavs/LJ044-0164.wav\n",
            "LJSpeech-1.1/wavs/LJ006-0264.wav\n",
            "LJSpeech-1.1/wavs/LJ037-0240.wav\n",
            "LJSpeech-1.1/wavs/LJ029-0085.wav\n",
            "LJSpeech-1.1/wavs/LJ022-0188.wav\n",
            "LJSpeech-1.1/wavs/LJ016-0191.wav\n",
            "LJSpeech-1.1/wavs/LJ040-0090.wav\n",
            "LJSpeech-1.1/wavs/LJ042-0048.wav\n",
            "LJSpeech-1.1/wavs/LJ050-0192.wav\n",
            "LJSpeech-1.1/wavs/LJ038-0158.wav\n",
            "LJSpeech-1.1/wavs/LJ002-0077.wav\n",
            "LJSpeech-1.1/wavs/LJ011-0080.wav\n",
            "LJSpeech-1.1/wavs/LJ002-0123.wav\n",
            "LJSpeech-1.1/wavs/LJ003-0256.wav\n",
            "LJSpeech-1.1/wavs/LJ025-0172.wav\n",
            "LJSpeech-1.1/wavs/LJ028-0484.wav\n",
            "LJSpeech-1.1/wavs/LJ028-0281.wav\n",
            "LJSpeech-1.1/wavs/LJ043-0138.wav\n",
            "LJSpeech-1.1/wavs/LJ019-0158.wav\n",
            "LJSpeech-1.1/wavs/LJ026-0065.wav\n",
            "LJSpeech-1.1/wavs/LJ007-0150.wav\n",
            "LJSpeech-1.1/wavs/LJ045-0141.wav\n",
            "LJSpeech-1.1/wavs/LJ016-0387.wav\n",
            "LJSpeech-1.1/wavs/LJ021-0040.wav\n",
            "LJSpeech-1.1/wavs/LJ048-0071.wav\n",
            "LJSpeech-1.1/wavs/LJ034-0215.wav\n",
            "LJSpeech-1.1/wavs/LJ005-0149.wav\n",
            "LJSpeech-1.1/wavs/LJ005-0136.wav\n",
            "LJSpeech-1.1/wavs/LJ036-0201.wav\n",
            "LJSpeech-1.1/wavs/LJ007-0101.wav\n",
            "LJSpeech-1.1/wavs/LJ035-0137.wav\n",
            "LJSpeech-1.1/wavs/LJ013-0172.wav\n",
            "LJSpeech-1.1/wavs/LJ014-0160.wav\n",
            "LJSpeech-1.1/wavs/LJ030-0104.wav\n",
            "LJSpeech-1.1/wavs/LJ016-0377.wav\n",
            "LJSpeech-1.1/wavs/LJ042-0103.wav\n",
            "LJSpeech-1.1/wavs/LJ006-0145.wav\n",
            "LJSpeech-1.1/wavs/LJ020-0075.wav\n",
            "LJSpeech-1.1/wavs/LJ013-0024.wav\n",
            "LJSpeech-1.1/wavs/LJ048-0016.wav\n",
            "LJSpeech-1.1/wavs/LJ028-0111.wav\n",
            "LJSpeech-1.1/wavs/LJ044-0017.wav\n",
            "LJSpeech-1.1/wavs/LJ028-0475.wav\n",
            "LJSpeech-1.1/wavs/LJ033-0189.wav\n",
            "LJSpeech-1.1/wavs/LJ036-0005.wav\n",
            "LJSpeech-1.1/wavs/LJ032-0159.wav\n",
            "LJSpeech-1.1/wavs/LJ027-0131.wav\n",
            "LJSpeech-1.1/wavs/LJ044-0176.wav\n",
            "LJSpeech-1.1/wavs/LJ008-0095.wav\n",
            "LJSpeech-1.1/wavs/LJ038-0108.wav\n",
            "LJSpeech-1.1/wavs/LJ013-0131.wav\n",
            "LJSpeech-1.1/wavs/LJ015-0285.wav\n",
            "LJSpeech-1.1/wavs/LJ047-0192.wav\n",
            "LJSpeech-1.1/wavs/LJ048-0039.wav\n",
            "LJSpeech-1.1/wavs/LJ030-0188.wav\n",
            "LJSpeech-1.1/wavs/LJ014-0259.wav\n",
            "LJSpeech-1.1/wavs/LJ028-0428.wav\n",
            "LJSpeech-1.1/wavs/LJ047-0191.wav\n",
            "LJSpeech-1.1/wavs/LJ018-0012.wav\n",
            "LJSpeech-1.1/wavs/LJ050-0203.wav\n",
            "LJSpeech-1.1/wavs/LJ011-0288.wav\n",
            "LJSpeech-1.1/wavs/LJ019-0282.wav\n",
            "LJSpeech-1.1/wavs/LJ038-0019.wav\n",
            "LJSpeech-1.1/wavs/LJ045-0230.wav\n",
            "LJSpeech-1.1/wavs/LJ044-0140.wav\n",
            "LJSpeech-1.1/wavs/LJ039-0149.wav\n",
            "LJSpeech-1.1/wavs/LJ026-0155.wav\n",
            "LJSpeech-1.1/wavs/LJ015-0029.wav\n",
            "LJSpeech-1.1/wavs/LJ021-0050.wav\n",
            "LJSpeech-1.1/wavs/LJ038-0055.wav\n",
            "LJSpeech-1.1/wavs/LJ037-0069.wav\n",
            "LJSpeech-1.1/wavs/LJ003-0148.wav\n",
            "LJSpeech-1.1/wavs/LJ012-0073.wav\n",
            "LJSpeech-1.1/wavs/LJ010-0310.wav\n",
            "LJSpeech-1.1/wavs/LJ033-0077.wav\n",
            "LJSpeech-1.1/wavs/LJ015-0123.wav\n",
            "LJSpeech-1.1/wavs/LJ008-0213.wav\n",
            "LJSpeech-1.1/wavs/LJ018-0092.wav\n",
            "LJSpeech-1.1/wavs/LJ025-0005.wav\n",
            "LJSpeech-1.1/wavs/LJ046-0091.wav\n",
            "LJSpeech-1.1/wavs/LJ014-0119.wav\n",
            "LJSpeech-1.1/wavs/LJ002-0100.wav\n",
            "LJSpeech-1.1/wavs/LJ008-0073.wav\n",
            "LJSpeech-1.1/wavs/LJ038-0012.wav\n",
            "LJSpeech-1.1/wavs/LJ004-0012.wav\n",
            "LJSpeech-1.1/wavs/LJ028-0386.wav\n",
            "LJSpeech-1.1/wavs/LJ020-0108.wav\n",
            "LJSpeech-1.1/wavs/LJ007-0207.wav\n",
            "LJSpeech-1.1/wavs/LJ046-0079.wav\n",
            "LJSpeech-1.1/wavs/LJ006-0092.wav\n",
            "LJSpeech-1.1/wavs/LJ003-0076.wav\n",
            "LJSpeech-1.1/wavs/LJ029-0134.wav\n",
            "LJSpeech-1.1/wavs/LJ013-0260.wav\n",
            "LJSpeech-1.1/wavs/LJ014-0258.wav\n",
            "LJSpeech-1.1/wavs/LJ024-0135.wav\n",
            "LJSpeech-1.1/wavs/LJ036-0056.wav\n",
            "LJSpeech-1.1/wavs/LJ038-0175.wav\n",
            "LJSpeech-1.1/wavs/LJ007-0082.wav\n",
            "LJSpeech-1.1/wavs/LJ017-0093.wav\n",
            "LJSpeech-1.1/wavs/LJ034-0085.wav\n",
            "LJSpeech-1.1/wavs/LJ040-0119.wav\n",
            "LJSpeech-1.1/wavs/LJ016-0397.wav\n",
            "LJSpeech-1.1/wavs/LJ004-0164.wav\n",
            "LJSpeech-1.1/wavs/LJ039-0081.wav\n",
            "LJSpeech-1.1/wavs/LJ042-0228.wav\n",
            "LJSpeech-1.1/wavs/LJ039-0033.wav\n",
            "LJSpeech-1.1/wavs/LJ030-0112.wav\n",
            "LJSpeech-1.1/wavs/LJ007-0034.wav\n",
            "LJSpeech-1.1/wavs/LJ003-0178.wav\n",
            "LJSpeech-1.1/wavs/LJ042-0151.wav\n",
            "LJSpeech-1.1/wavs/LJ004-0090.wav\n",
            "LJSpeech-1.1/wavs/LJ046-0095.wav\n",
            "LJSpeech-1.1/wavs/LJ034-0180.wav\n",
            "LJSpeech-1.1/wavs/LJ007-0215.wav\n",
            "LJSpeech-1.1/wavs/LJ024-0040.wav\n",
            "LJSpeech-1.1/wavs/LJ039-0217.wav\n",
            "LJSpeech-1.1/wavs/LJ005-0094.wav\n",
            "LJSpeech-1.1/wavs/LJ039-0192.wav\n",
            "LJSpeech-1.1/wavs/LJ048-0052.wav\n",
            "LJSpeech-1.1/wavs/LJ018-0264.wav\n",
            "LJSpeech-1.1/wavs/LJ006-0090.wav\n",
            "LJSpeech-1.1/wavs/LJ028-0320.wav\n",
            "LJSpeech-1.1/wavs/LJ049-0211.wav\n",
            "LJSpeech-1.1/wavs/LJ044-0221.wav\n",
            "LJSpeech-1.1/wavs/LJ033-0041.wav\n",
            "LJSpeech-1.1/wavs/LJ009-0235.wav\n",
            "LJSpeech-1.1/wavs/LJ024-0087.wav\n",
            "LJSpeech-1.1/wavs/LJ012-0134.wav\n",
            "LJSpeech-1.1/wavs/LJ009-0174.wav\n",
            "LJSpeech-1.1/wavs/LJ044-0168.wav\n",
            "LJSpeech-1.1/wavs/LJ025-0167.wav\n",
            "LJSpeech-1.1/wavs/LJ009-0251.wav\n",
            "LJSpeech-1.1/wavs/LJ036-0147.wav\n",
            "LJSpeech-1.1/wavs/LJ018-0089.wav\n",
            "LJSpeech-1.1/wavs/LJ042-0063.wav\n",
            "LJSpeech-1.1/wavs/LJ048-0252.wav\n",
            "LJSpeech-1.1/wavs/LJ016-0172.wav\n",
            "LJSpeech-1.1/wavs/LJ020-0079.wav\n",
            "LJSpeech-1.1/wavs/LJ005-0075.wav\n",
            "LJSpeech-1.1/wavs/LJ015-0074.wav\n",
            "LJSpeech-1.1/wavs/LJ027-0126.wav\n",
            "LJSpeech-1.1/wavs/LJ006-0183.wav\n",
            "LJSpeech-1.1/wavs/LJ026-0061.wav\n",
            "LJSpeech-1.1/wavs/LJ015-0011.wav\n",
            "LJSpeech-1.1/wavs/LJ028-0492.wav\n",
            "LJSpeech-1.1/wavs/LJ019-0117.wav\n",
            "LJSpeech-1.1/wavs/LJ048-0064.wav\n",
            "LJSpeech-1.1/wavs/LJ025-0130.wav\n",
            "LJSpeech-1.1/wavs/LJ011-0036.wav\n",
            "LJSpeech-1.1/wavs/LJ043-0020.wav\n",
            "LJSpeech-1.1/wavs/LJ027-0149.wav\n",
            "LJSpeech-1.1/wavs/LJ048-0216.wav\n",
            "LJSpeech-1.1/wavs/LJ003-0094.wav\n",
            "LJSpeech-1.1/wavs/LJ044-0197.wav\n",
            "LJSpeech-1.1/wavs/LJ033-0060.wav\n",
            "LJSpeech-1.1/wavs/LJ045-0050.wav\n",
            "LJSpeech-1.1/wavs/LJ017-0229.wav\n",
            "LJSpeech-1.1/wavs/LJ006-0066.wav\n",
            "LJSpeech-1.1/wavs/LJ015-0313.wav\n",
            "LJSpeech-1.1/wavs/LJ004-0119.wav\n",
            "LJSpeech-1.1/wavs/LJ017-0073.wav\n",
            "LJSpeech-1.1/wavs/LJ045-0165.wav\n",
            "LJSpeech-1.1/wavs/LJ011-0194.wav\n",
            "LJSpeech-1.1/wavs/LJ003-0124.wav\n",
            "LJSpeech-1.1/wavs/LJ038-0209.wav\n",
            "LJSpeech-1.1/wavs/LJ038-0124.wav\n",
            "LJSpeech-1.1/wavs/LJ018-0133.wav\n",
            "LJSpeech-1.1/wavs/LJ034-0088.wav\n",
            "LJSpeech-1.1/wavs/LJ039-0205.wav\n",
            "LJSpeech-1.1/wavs/LJ019-0044.wav\n",
            "LJSpeech-1.1/wavs/LJ034-0077.wav\n",
            "LJSpeech-1.1/wavs/LJ032-0104.wav\n",
            "LJSpeech-1.1/wavs/LJ016-0441.wav\n",
            "LJSpeech-1.1/wavs/LJ011-0246.wav\n",
            "LJSpeech-1.1/wavs/LJ034-0066.wav\n",
            "LJSpeech-1.1/wavs/LJ047-0114.wav\n",
            "LJSpeech-1.1/wavs/LJ012-0258.wav\n",
            "LJSpeech-1.1/wavs/LJ012-0061.wav\n",
            "LJSpeech-1.1/wavs/LJ014-0022.wav\n",
            "LJSpeech-1.1/wavs/LJ036-0185.wav\n",
            "LJSpeech-1.1/wavs/LJ008-0255.wav\n",
            "LJSpeech-1.1/wavs/LJ019-0005.wav\n",
            "LJSpeech-1.1/wavs/LJ025-0035.wav\n",
            "LJSpeech-1.1/wavs/LJ001-0132.wav\n",
            "LJSpeech-1.1/wavs/LJ048-0180.wav\n",
            "LJSpeech-1.1/wavs/LJ017-0225.wav\n",
            "LJSpeech-1.1/wavs/LJ032-0008.wav\n",
            "LJSpeech-1.1/wavs/LJ044-0232.wav\n",
            "LJSpeech-1.1/wavs/LJ034-0069.wav\n",
            "LJSpeech-1.1/wavs/LJ009-0240.wav\n",
            "LJSpeech-1.1/wavs/LJ028-0416.wav\n",
            "LJSpeech-1.1/wavs/LJ038-0094.wav\n",
            "LJSpeech-1.1/wavs/LJ001-0059.wav\n",
            "LJSpeech-1.1/wavs/LJ014-0007.wav\n",
            "LJSpeech-1.1/wavs/LJ024-0053.wav\n",
            "LJSpeech-1.1/wavs/LJ030-0101.wav\n",
            "LJSpeech-1.1/wavs/LJ015-0077.wav\n",
            "LJSpeech-1.1/wavs/LJ010-0143.wav\n",
            "LJSpeech-1.1/wavs/LJ020-0070.wav\n",
            "LJSpeech-1.1/wavs/LJ047-0181.wav\n",
            "LJSpeech-1.1/wavs/LJ008-0002.wav\n",
            "LJSpeech-1.1/wavs/LJ004-0157.wav\n",
            "LJSpeech-1.1/wavs/LJ034-0075.wav\n",
            "LJSpeech-1.1/wavs/LJ036-0130.wav\n",
            "LJSpeech-1.1/wavs/LJ025-0028.wav\n",
            "LJSpeech-1.1/wavs/LJ040-0081.wav\n",
            "LJSpeech-1.1/wavs/LJ031-0068.wav\n",
            "LJSpeech-1.1/wavs/LJ018-0336.wav\n",
            "LJSpeech-1.1/wavs/LJ042-0204...
          ]
        }
      ],
      "source": [
        "# Unzip the downloaded tar.bz2 file into the newly created 'dataset' directory.\n",
        "# This will extract the audio files and metadata for the project.\n",
        "!tar -xf \"LJSpeech-1.1.tar.bz2\" -C \"/content/dataset/\""
      ]
    },
    {
      "cell_type": "markdown",
      "source": [
        "## Data loading and preprocessing"
      ],
      "metadata": {
        "id": "iV9qN-jU7o3u"
      }
    },
    {
      "cell_type": "code",
      "source": [
        "with open(\"/content/dataset/LJSpeech-1.1/metadata.csv\", encoding='utf-8') as f:\n",
        "  lines=f.readlines()\n",
        "\n",
        "# Print the first 5 lines to inspect the format of the metadata file.\n",
        "for line in lines[:5]:\n",
        "  print(line)"
      ],
      "metadata": {
        "id": "j-iJ-Qo68L9F"
      },
      "outputs": []
    },
    {
      "cell_type": "code",
      "source": [
        "data=[]\n",
        "# Process each line in the metadata file to create a list of file paths and transcripts.\n",
        "for line in lines:\n",
        "  line=line.split(\"|\")\n",
        "  data.append([\n",
        "      os.path.join(\"/content/dataset/LJSpeech-1.1/wavs/\",line[0]+\".wav\"),\n",
        "      line[2]\n",
        "  ])"
      ],
      "metadata": {
        "id": "JjB3oE_R8R2i"
      },
      "outputs": []
    },
    {
      "cell_type": "code",
      "source": [
        "import pandas as pd\n",
        "# Create a pandas DataFrame from the processed data for easier manipulation.\n",
        "df=pd.DataFrame(data,columns=[\"file\",\"text\"])\n",
        "print(\"Total number of audio files : ",
        "\",len(df))\n",
        "df.head()"
      ],
      "metadata": {
        "id": "BwS7658c8e1r"
      },
      "outputs": []
    },
    {
      "cell_type": "code",
      "source": [
        "# Splitting the dataset into training and testing sets.\n",
        "# 90% of the data is used for training and 10% for testing.\n",
        "split=int(len(df)*0.9)\n",
        "df_train=df[:split]\n",
        "df_test=df[split:]\n",
        "\n",
        "print(\"Training set size : ",
        "\",len(df_train))\n",
        "print(\"Testing set size : ",
        "\",len(df_test))"
      ],
      "metadata": {
        "id": "B-C3k44b8rI9"
      },
      "outputs": []
    },
    {
      "cell_type": "code",
      "source": [
        "# Extract all unique characters from the text transcripts to create a vocabulary.\n",
        "chars=tf.constant(\n",
        "    sorted(list(set(\" \".join([s.lower() for s in df[\"text\"]]))))\n",
        ")\n",
        "print(\"All possible characters : ",
        "\",len(chars))\n",
        "print(\"All characters : ",
        "\",chars)"
      ],
      "metadata": {
        "id": "3lM4nB4k8yF1"
      },
      "outputs": []
    },
    {
      "cell_type": "code",
      "source": [
        "# Creating a character-to-number mapping layer.\n",
        "char_to_num=tf.keras.layers.StringLookup(vocabulary=chars,oov_token=\"\")\n",
        "\n",
        "# Creating a number-to-character mapping layer, which is the inverse of char_to_num.\n",
        "num_to_char=tf.keras.layers.StringLookup(vocabulary=char_to_num.get_vocabulary(),oov_token=\"\",invert=True)\n",
        "\n",
        "# Example of converting a string to a sequence of numbers.\n",
        "print(char_to_num(tf.strings.lower(tf.constant(\"hello how are you\"))))"
      ],
      "metadata": {
        "id": "tTf_R3qI9B6v"
      },
      "outputs": []
    },
    {
      "cell_type": "code",
      "source": [
        "# Function to convert text to a sequence of numbers using the StringLookup layer.\n",
        "def text_to_num(text):\n",
        "  text=tf.strings.lower(text)\n",
        "  text=tf.strings.regex_replace(text,\"[ ]+\",\" \")\n",
        "  return char_to_num(tf.strings.bytes_split(text))\n",
        "\n",
        "# Function to convert a sequence of numbers back to text.\n",
        "def num_to_text(num):\n",
        "  return tf.strings.reduce_join(num_to_char(num)).numpy().decode(\"utf-8\")"
      ],
      "metadata": {
        "id": "y9xUu-aY9Kj9"
      },
      "outputs": []
    },
    {
      "cell_type": "code",
      "source": [
        "# Function to load an audio file and get its sample rate.\n",
        "def load_audio_file(file):\n",
        "  file=tf.io.read_file(file)\n",
        "  file=tf.audio.decode_wav(file)\n",
        "  return file.audio,file.sample_rate\n",
        "\n",
        "# Function to compute the Short-Time Fourier Transform (STFT) of an audio signal.\n",
        "# This transforms the audio from the time domain to the frequency domain.\n",
        "def get_stft(audio,sr):\n",
        "  # stft = tf.signal.stft(audio,frame_length=FRAME_LENGTH,frame_step=FRAME_STEP)\n",
        "  # stft=tf.cast(stft,tf.float32)\n",
        "  # stft=tf.abs(stft)\n",
        "  # return stft\n",
        "  stft=tf.signal.stft(\n",
        "      audio,frame_length=FRAME_LENGTH,frame_step=FRAME_STEP)\n",
        "  stft=tf.cast(stft,tf.float32)\n",
        "  stft=tf.abs(stft)\n",
        "  return stft"
      ],
      "metadata": {
        "id": "u4Qe5j6M9Q1Z"
      },
      "outputs": []
    },
    {
      "cell_type": "code",
      "source": [
        "# A wrapper function to process both audio and text data.\n",
        "# It loads the audio, computes the STFT, and converts the text to numbers.\n",
        "def process_data(file,text):\n",
        "  audio,sr=load_audio_file(file)\n",
        "  stft=get_stft(audio,sr)\n",
        "  text=text_to_num(text)\n",
        "  return stft,text"
      ],
      "metadata": {
        "id": "Ff1b0nFz9VCb"
      },
      "outputs": []
    },
    {
      "cell_type": "code",
      "source": [
        "# Creating a TensorFlow Dataset for the training data.\n",
        "# The `.map()` function applies the `process_data` function to each element.\n",
        "ds_train=tf.data.Dataset.from_tensor_slices(\n",
        "    (df_train[\"file\"].values,df_train[\"text\"].values))\n",
        "ds_train=ds_train.map(process_data,num_parallel_calls=tf.data.AUTOTUNE)"
      ],
      "metadata": {
        "id": "F9G976nQ9s1R"
      },
      "outputs": []
    },
    {
      "cell_type": "code",
      "source": [
        "# Creating a TensorFlow Dataset for the testing data.\n",
        "ds_test=tf.data.Dataset.from_tensor_slices(\n",
        "    (df_test[\"file\"].values,df_test[\"text\"].values))\n",
        "ds_test=ds_test.map(process_data,num_parallel_calls=tf.data.AUTOTUNE)"
      ],
      "metadata": {
        "id": "zVjTq2sM9w0_"
      },
      "outputs": []
    },
    {
      "cell_type": "code",
      "source": [
        "# A function to prepare the dataset for training.\n",
        "# It pads the audio and text sequences to the same length within each batch.\n",
        "def prepare_dataset(ds):\n",
        "  ds=ds.padded_batch(BATCH_SIZE,\n",
        "                      padded_shapes=([None,None],[None]))\n",
        "  return ds"
      ],
      "metadata": {
        "id": "tD-z9dCj989-"
      },
      "outputs": []
    },
    {
      "cell_type": "code",
      "source": [
        "# Applying the preparation function to both training and testing datasets.\n",
        "ds_train_new=prepare_dataset(ds_train)\n",
        "ds_test_new=prepare_dataset(ds_test)"
      ],
      "metadata": {
        "id": "yL5d94_d-AAI"
      },
      "outputs": []
    },
    {
      "cell_type": "code",
      "source": [
        "# Inspecting the shapes of the first batch from the training dataset.\n",
        "# This helps to verify that the data is in the correct format for the model.\n",
        "train_audio,train_text=next(iter(ds_train_new))\n",
        "print(\"Audio shapes : ",
        "\",train_audio.shape)\n",
        "print(\"Text shapes : ",
        "\",train_text.shape)"
      ],
      "metadata": {
        "id": "g-eO3XG0-F6s"
      },
      "outputs": []
    },
    {
      "cell_type": "code",
      "source": [
        "# Defining the custom CTC (Connectionist Temporal Classification) loss function.\n",
        "# CTC is a specialized loss function for sequence-to-sequence models where the alignment between input and output is not known.\n",
        "def custom_ctc_loss(y_true,y_pred):\n",
        "  batch_len=tf.cast(tf.shape(y_true)[0],dtype=\"int64\")\n",
        "  input_len=tf.cast(tf.shape(y_pred)[1],dtype=\"int64\")\n",
        "  label_len=tf.cast(tf.shape(y_true)[1],dtype=\"int64\")\n",
        "\n",
        "  input_len=tf.repeat(input_len,repeats=batch_len)\n",
        "  label_len=tf.repeat(label_len,repeats=batch_len)\n",
        "\n",
        "  loss=tf.keras.backend.ctc_batch_cost(\n",
        "      y_true,y_pred,input_len,label_len)\n",
        "\n",
        "  return loss"
      ],
      "metadata": {
        "id": "H30qR4qP-l1t"
      },
      "outputs": []
    },
    {
      "cell_type": "markdown",
      "source": [
        "## Model"
      ],
      "metadata": {
        "id": "vPzW_pW--oGj"
      }
    },
    {
      "cell_type": "code",
      "source": [
        "# Defining the ASR model architecture using Keras.\n",
        "# The model consists of convolutional layers for feature extraction from the audio spectogram,\n",
        "# followed by Bidirectional GRU layers to process the sequential data.\n",
        "# Finally, a Dense layer with a softmax activation predicts the probability of each character.\n",
        "class MyModel(Model):\n",
        "  def __init__(self,n_classes=None,**kwargs):\n",
        "    super(MyModel,self).__init__(**kwargs)\n",
        "    self.layer1=Conv2D(32,(3,3),padding='same',activation='relu')\n",
        "    self.layer2=MaxPooling2D((2,2))\n",
        "    self.layer3=Conv2D(64,(3,3),padding='same',activation='relu')\n",
        "    self.layer4=MaxPooling2D((2,2))\n",
        "    self.layer5=Conv2D(128,(3,3),padding='same',activation='relu')\n",
        "    self.layer6=MaxPooling2D((2,2))\n",
        "    self.layer7=Reshape((-1,self.layer6.output_shape[-1]*self.layer6.output_shape[-2]))\n",
        "    self.layer8=Bidirectional(GRU(128,return_sequences=True))\n",
        "    self.layer9=Bidirectional(GRU(128,return_sequences=True))\n",
        "    self.layer10=Dense(128,activation='relu')\n",
        "    self.layer11=Dense(n_classes+1,activation='softmax')\n",
        "\n",
        "  def call(self,x):\n",
        "    x=self.layer1(x)\n",
        "    x=self.layer2(x)\n",
        "    x=self.layer3(x)\n",
        "    x=self.layer4(x)\n",
        "    x=self.layer5(x)\n",
        "    x=self.layer6(x)\n",
        "    x=self.layer7(x)\n",
        "    x=self.layer8(x)\n",
        "    x=self.layer9(x)\n",
        "    x=self.layer10(x)\n",
        "    x=self.layer11(x)\n",
        "    return x\n",
        "\n",
        "model=MyModel(n_classes=char_to_num.vocabulary_size())\n",
        "model.build(input_shape=(BATCH_SIZE,None,FRAME_LENGTH//2+1,1))"
      ],
      "metadata": {
        "id": "e605d3bL-s0R"
      },
      "outputs": []
    },
    {
      "cell_type": "code",
      "source": [
        "# Compiling the model with the Adam optimizer and the custom CTC loss function.\n",
        "model.compile(optimizer=Adam(LR),loss=custom_ctc_loss)\n",
        "# Displaying the model summary to see the layers and parameter count.\n",
        "model.summary()"
      ],
      "metadata": {
        "id": "f5x9f4a_-z-R"
      },
      "outputs": []
    },
    {
      "cell_type": "code",
      "source": [
        "# Training the model on the prepared datasets for a specified number of epochs.\n",
        "history=model.fit(\n",
        "    ds_train_new,epochs=N_EPOCHS,validation_data=ds_test_new)"
      ],
      "metadata": {
        "id": "tD-z9dCj-6iI"
      },
      "outputs": []
    },
    {
      "cell_type": "code",
      "source": [
        "# Defining a function to predict the transcript of a new audio file.\n",
        "# It loads the audio, processes it, and uses the trained model to predict the output sequence.\n",
        "# It then uses CTC greedy decoding to get the final text.\n",
        "def predict(model,file):\n",
        "  audio,sr=load_audio_file(file)\n",
        "  stft=get_stft(audio,sr)\n",
        "  stft=tf.expand_dims(stft,axis=0)\n",
        "  stft=tf.expand_dims(stft,axis=-1)\n",
        "  pred=model.predict(stft)\n",
        "  pred_greedy=tf.keras.backend.ctc_decode(\n",
        "      pred,tf.repeat(tf.shape(pred)[1],tf.shape(pred)[0]),greedy=True)\n",
        "  return num_to_text(pred_greedy[0][0])"
      ],
      "metadata": {
        "id": "qR7h4R9k_G4O"
      },
      "outputs": []
    },
    {
      "cell_type": "code",
      "source": [
        "# Testing the model by making predictions on 10 random audio files from the test set.\n",
        "# The original and predicted transcripts are printed for comparison.\n",
        "for i in range(10):\n",
        "  idx=np.random.randint(len(df_test))\n",
        "  audio_file=df_test.iloc[idx,0]\n",
        "  text=df_test.iloc[idx,1]\n",
        "  pred=predict(model,audio_file)\n",
        "  print(\"Original text : ",
        "\",text)\n",
        "  print(\"Predicted text : ",
        "\",pred)\n",
        "  print(\"-\"*50)"
      ],
      "metadata": {
        "id": "p-1tF4xI_M2O"
      },
      "outputs": []
    }
  ],
  "metadata": {
    "colab": {
      "name": "25 Automatic_Speech_Recognition_with_TensorFlow_2_by_Neuralearn_ai_.ipynb",
      "provenance": []
    },
    "kernelspec": {
      "name": "python3",
      "display_name": "Python 3"
    },
    "language_info": {
      "name": "python"
    }
  },
  "nbformat": 4,
  "nbformat_minor": 0
}